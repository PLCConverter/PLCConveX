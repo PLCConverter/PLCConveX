{
 "cells": [
  {
   "cell_type": "code",
   "execution_count": null,
   "metadata": {},
   "outputs": [
    {
     "name": "stdout",
     "output_type": "stream",
     "text": [
      "Replaced 1 <pou> block(s) in D:/SoftWares/OpenPLC/OpenPLC_proj/LD_order2/plc.xml with the contents of ./Outputs/dummy.xml.\n"
     ]
    }
   ],
   "source": [
    "import re\n",
    "\n",
    "def replace_pou_block(out_filename, in_filename):\n",
    "    # Read the original out.xml content\n",
    "    with open(out_filename, \"r\", encoding=\"utf-8\") as f:\n",
    "        out_content = f.read()\n",
    "    \n",
    "    # Read the replacement content from in.xml\n",
    "    with open(in_filename, \"r\", encoding=\"utf-8\") as f:\n",
    "        in_content = f.read()\n",
    "    \n",
    "    # Define a regex that matches either:\n",
    "    #   - a <pou ...>...</pou> block (non-greedy match), or \n",
    "    #   - a self-closing <pou .../> tag.\n",
    "    pattern = re.compile(r'(<pou\\b[^>]*>(?:.|\\n)*?</pou>)|(<pou\\b[^>]*/>)', re.DOTALL)\n",
    "    \n",
    "    # Substitute the first occurrence (change count=0 to replace all if needed)\n",
    "    new_content, count = pattern.subn(in_content, out_content, count=1)\n",
    "    \n",
    "    if count == 0:\n",
    "        print(\"No <pou> block was found in\", out_filename)\n",
    "    else:\n",
    "        # Write the modified content back to out.xml\n",
    "        with open(out_filename, \"w\", encoding=\"utf-8\") as f:\n",
    "            f.write(new_content)\n",
    "        print(f\"Replaced {count} <pou> block(s) in {out_filename} with the contents of {in_filename}.\")\n",
    "\n",
    "\n",
    "replace_pou_block(\"D:/SoftWares/OpenPLC/OpenPLC_proj/LD_order2/plc.xml\", \"./Outputs/LD_BASIC_CONVERTED.xml\")\n"
   ]
  }
 ],
 "metadata": {
  "kernelspec": {
   "display_name": "py310",
   "language": "python",
   "name": "python3"
  },
  "language_info": {
   "codemirror_mode": {
    "name": "ipython",
    "version": 3
   },
   "file_extension": ".py",
   "mimetype": "text/x-python",
   "name": "python",
   "nbconvert_exporter": "python",
   "pygments_lexer": "ipython3",
   "version": "3.10.15"
  }
 },
 "nbformat": 4,
 "nbformat_minor": 2
}
